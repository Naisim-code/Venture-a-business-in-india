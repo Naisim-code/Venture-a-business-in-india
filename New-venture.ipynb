{
 "cells": [
  {
   "cell_type": "code",
   "execution_count": 3,
   "id": "5ae76ff6",
   "metadata": {},
   "outputs": [
    {
     "ename": "ModuleNotFoundError",
     "evalue": "No module named 'dotenv'",
     "output_type": "error",
     "traceback": [
      "\u001b[1;31m---------------------------------------------------------------------------\u001b[0m",
      "\u001b[1;31mModuleNotFoundError\u001b[0m                       Traceback (most recent call last)",
      "Cell \u001b[1;32mIn[3], line 2\u001b[0m\n\u001b[0;32m      1\u001b[0m \u001b[39mimport\u001b[39;00m \u001b[39mpyodbc\u001b[39;00m \u001b[39m#creating connection\u001b[39;00m\n\u001b[1;32m----> 2\u001b[0m \u001b[39mfrom\u001b[39;00m \u001b[39mdotenv\u001b[39;00m \u001b[39mimport\u001b[39;00m dotenv_values \u001b[39m#loading environment values\u001b[39;00m\n\u001b[0;32m      3\u001b[0m \u001b[39mimport\u001b[39;00m \u001b[39mos\u001b[39;00m\n\u001b[0;32m      4\u001b[0m \u001b[39mimport\u001b[39;00m \u001b[39mpandas\u001b[39;00m \u001b[39mas\u001b[39;00m \u001b[39mpd\u001b[39;00m\n",
      "\u001b[1;31mModuleNotFoundError\u001b[0m: No module named 'dotenv'"
     ]
    }
   ],
   "source": [
    "import pyodbc #creating connection\n",
    "from dotenv import dotenv_values #loading environment values\n",
    "import os\n",
    "import pandas as pd\n",
    "import warnings\n",
    "\n",
    "warnings.filterwarnings('ignore')"
   ]
  },
  {
   "cell_type": "code",
   "execution_count": null,
   "id": "f581728a",
   "metadata": {},
   "outputs": [],
   "source": [
    "env_path=r'C:\\Users\\User\\OneDrive\\Documents/.env' #path to env file"
   ]
  },
  {
   "cell_type": "code",
   "execution_count": null,
   "id": "bc0c67f3",
   "metadata": {},
   "outputs": [],
   "source": [
    "db_SERVER='dap-projects-database.database.windows.net'#defining env enviroments\n",
    "db_DATABASE='dapDP'\n",
    "db_USER='dataAnalyst_LP1'\n",
    "db_PASSWORD='B0a@3kR2Z'"
   ]
  },
  {
   "cell_type": "code",
   "execution_count": null,
   "id": "dfb8b8a4",
   "metadata": {},
   "outputs": [
    {
     "data": {
      "text/plain": [
       "(True, 'DB_PASSWORD', 'B0a@3kR2Z')"
      ]
     },
     "execution_count": 90,
     "metadata": {},
     "output_type": "execute_result"
    }
   ],
   "source": [
    "from dotenv import set_key \n",
    "set_key(env_path,'DB_SERVER',db_SERVER) #writing env variables\n",
    "set_key(env_path,'DB_DATABASE',db_DATABASE)\n",
    "set_key(env_path,'DB_USER',db_USER)\n",
    "set_key(env_path,'DB_PASSWORD',db_PASSWORD)\n",
    "\n",
    "\n"
   ]
  },
  {
   "cell_type": "code",
   "execution_count": null,
   "id": "88604796",
   "metadata": {},
   "outputs": [],
   "source": [
    "with open(env_path, 'a',encoding='latin1')as file:#writing enviroment variablesto.env file\n",
    "    file.write(f'DB_SERVER={db_SERVER}\\n')\n",
    "    file.write(f'DB_DATABASE={db_DATABASE}\\n')\n",
    "    file.write(f'DB_USER={db_USER}\\n')\n",
    "    file.write(f'DB_PASSWORD={db_PASSWORD}\\n')"
   ]
  },
  {
   "cell_type": "code",
   "execution_count": null,
   "id": "395488d0",
   "metadata": {},
   "outputs": [],
   "source": [
    "environment_variables=dotenv_values('.env')#loading the env variables to a dictionary"
   ]
  },
  {
   "cell_type": "code",
   "execution_count": null,
   "id": "e3082cbe",
   "metadata": {},
   "outputs": [],
   "source": [
    "database=environment_variables.get(\"DATABASE\")#getting values for credantials set\n",
    "server=environment_variables.get(\"SERVER\")\n",
    "username=environment_variables.get(\"USERNAME\")\n",
    "password=environment_variables.get(\"PASSWORD\")\n",
    "\n",
    "connection_string=f\"DRIVER={{SQL Server}};SERVER={server};DATABASE={database};IUD={username};PWD={password};encrypt=True\""
   ]
  },
  {
   "cell_type": "code",
   "execution_count": null,
   "id": "b2358290",
   "metadata": {},
   "outputs": [
    {
     "ename": "NameError",
     "evalue": "name 'connection_string' is not defined",
     "output_type": "error",
     "traceback": [
      "\u001b[1;31m---------------------------------------------------------------------------\u001b[0m",
      "\u001b[1;31mNameError\u001b[0m                                 Traceback (most recent call last)",
      "Cell \u001b[1;32mIn[2], line 1\u001b[0m\n\u001b[1;32m----> 1\u001b[0m connection\u001b[39m=\u001b[39mpyodbc\u001b[39m.\u001b[39mconnect(connection_string)\n",
      "\u001b[1;31mNameError\u001b[0m: name 'connection_string' is not defined"
     ]
    }
   ],
   "source": [
    "connection=pyodbc.connect(connection_string)"
   ]
  }
 ],
 "metadata": {
  "kernelspec": {
   "display_name": "Python 3 (ipykernel)",
   "language": "python",
   "name": "python3"
  },
  "language_info": {
   "codemirror_mode": {
    "name": "ipython",
    "version": 3
   },
   "file_extension": ".py",
   "mimetype": "text/x-python",
   "name": "python",
   "nbconvert_exporter": "python",
   "pygments_lexer": "ipython3",
   "version": "3.10.9"
  }
 },
 "nbformat": 4,
 "nbformat_minor": 5
}
